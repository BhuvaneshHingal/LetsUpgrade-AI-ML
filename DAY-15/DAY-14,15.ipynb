{
 "cells": [
  {
   "cell_type": "code",
   "execution_count": 1,
   "metadata": {},
   "outputs": [],
   "source": [
    "import numpy as np"
   ]
  },
  {
   "cell_type": "markdown",
   "metadata": {},
   "source": [
    "# 1. Create a 3x3x3 array with random values "
   ]
  },
  {
   "cell_type": "code",
   "execution_count": 2,
   "metadata": {},
   "outputs": [
    {
     "name": "stdout",
     "output_type": "stream",
     "text": [
      "(3, 3, 3)\n",
      "[[[0.12315264 0.95368852 0.05008973]\n",
      "  [0.26127348 0.96483791 0.02673053]\n",
      "  [0.64940321 0.47795381 0.90454881]]\n",
      "\n",
      " [[0.49785523 0.1990452  0.37200669]\n",
      "  [0.56354053 0.80604786 0.47793995]\n",
      "  [0.66634268 0.66618531 0.67461855]]\n",
      "\n",
      " [[0.13716307 0.34958048 0.60859842]\n",
      "  [0.02822074 0.0517652  0.5357471 ]\n",
      "  [0.59718367 0.31872664 0.35157609]]]\n"
     ]
    }
   ],
   "source": [
    "a1 = np.random.random((3,3,3))\n",
    "print(a1.shape)\n",
    "print(a1)"
   ]
  },
  {
   "cell_type": "markdown",
   "metadata": {},
   "source": [
    "# 2.Create a 5x5 matrix with values 1,2,3,4 just below the diagonal"
   ]
  },
  {
   "cell_type": "code",
   "execution_count": 3,
   "metadata": {},
   "outputs": [
    {
     "name": "stdout",
     "output_type": "stream",
     "text": [
      "(5, 5)\n",
      "[[0 0 0 0 0]\n",
      " [1 0 0 0 0]\n",
      " [0 2 0 0 0]\n",
      " [0 0 3 0 0]\n",
      " [0 0 0 4 0]]\n"
     ]
    }
   ],
   "source": [
    "a2 = np.diag(np.arange(4)+1,-1)\n",
    "print(a2.shape)\n",
    "print(a2)"
   ]
  },
  {
   "cell_type": "markdown",
   "metadata": {},
   "source": [
    "# 3.Create a 8x8 matrix and fill it with a checkerboard pattern"
   ]
  },
  {
   "cell_type": "code",
   "execution_count": 4,
   "metadata": {},
   "outputs": [
    {
     "name": "stdout",
     "output_type": "stream",
     "text": [
      "[[0 1 0 1 0 1 0 1]\n",
      " [1 0 1 0 1 0 1 0]\n",
      " [0 1 0 1 0 1 0 1]\n",
      " [1 0 1 0 1 0 1 0]\n",
      " [0 1 0 1 0 1 0 1]\n",
      " [1 0 1 0 1 0 1 0]\n",
      " [0 1 0 1 0 1 0 1]\n",
      " [1 0 1 0 1 0 1 0]]\n"
     ]
    }
   ],
   "source": [
    "a3 = np.zeros((8,8),dtype=int)\n",
    "a3[1::2,::2] = 1\n",
    "a3[::2,1::2] = 1\n",
    "print(a3)"
   ]
  },
  {
   "cell_type": "markdown",
   "metadata": {},
   "source": [
    "# 4. Normalize a 5x5 random matrix"
   ]
  },
  {
   "cell_type": "code",
   "execution_count": 5,
   "metadata": {},
   "outputs": [
    {
     "name": "stdout",
     "output_type": "stream",
     "text": [
      "Shape of a4 is :  (5, 5)\n",
      "Random matrix of 5x5 :\n",
      "\n",
      " [[0.7344501  0.78862514 0.25970417 0.4483559  0.19904071]\n",
      " [0.15860758 0.67430687 0.86242232 0.99163714 0.01295498]\n",
      " [0.40753591 0.35815185 0.19895136 0.06791621 0.2540851 ]\n",
      " [0.98044233 0.30976998 0.36169815 0.37850759 0.86133129]\n",
      " [0.39393564 0.39923412 0.00877943 0.74118025 0.49804062]]\n",
      "\n",
      "\n",
      "Mean of a4:  0.45398658939639885 \n",
      "Standrand divion of a4:  0.2906772952568989 \n",
      "\n",
      "\n",
      "Normalize a 5x5 random matrix\n",
      "\n",
      "\n",
      "[[ 0.96486211  1.15123733 -0.66837837 -0.01937092 -0.8770753 ]\n",
      " [-1.01617502  0.7579549   1.40511743  1.84964755 -1.51725512]\n",
      " [-0.15980154 -0.32969463 -0.8773827  -1.32817523 -0.68770933]\n",
      " [ 1.81113471 -0.49613993 -0.3174945  -0.25966597  1.40136402]\n",
      " [-0.20658974 -0.1883617  -1.53162     0.98801546  0.1515565 ]]\n"
     ]
    }
   ],
   "source": [
    "a4 = np.random.random((5,5))\n",
    "print(\"Shape of a4 is : \",a4.shape)\n",
    "print(\"Random matrix of 5x5 :\\n\\n\",a4)\n",
    "print(\"\\n\\nMean of a4: \",a4.mean(),\"\\nStandrand divion of a4: \", a4.std(),\"\\n\\n\")\n",
    "print(\"Normalize a 5x5 random matrix\\n\\n\")\n",
    "print((a4-a4.mean())/a4.std())"
   ]
  },
  {
   "cell_type": "markdown",
   "metadata": {},
   "source": [
    "# 5.  How to find common values between two arrays?"
   ]
  },
  {
   "cell_type": "code",
   "execution_count": 6,
   "metadata": {},
   "outputs": [
    {
     "name": "stdout",
     "output_type": "stream",
     "text": [
      "[5 5 4 8 6 4 2 0 1 9]\n",
      "[9 5 7 7 9 0 7 2 3 4]\n",
      "common values between two arrays\n",
      "[0 2 4 5 9]\n"
     ]
    }
   ],
   "source": [
    "# np.intersect1d(ar1, ar2, assume_unique=False, return_indices=False)[source]\n",
    "# intersect1d takes arrays as input and gives another array as output which contain all the common values \n",
    "Z1 = np.random.randint(0,10,10)\n",
    "Z2 = np.random.randint(0,10,10)\n",
    "print(Z1)\n",
    "print(Z2)\n",
    "print('common values between two arrays')\n",
    "print(np.intersect1d(Z1,Z2))"
   ]
  },
  {
   "cell_type": "markdown",
   "metadata": {},
   "source": [
    "# 6.How to get the dates of yesterday, today and tomorrow?"
   ]
  },
  {
   "cell_type": "code",
   "execution_count": 7,
   "metadata": {},
   "outputs": [
    {
     "name": "stdout",
     "output_type": "stream",
     "text": [
      "yesterday 2020-07-25\n",
      "today 2020-07-26\n",
      "tomorrow 2020-07-27\n"
     ]
    }
   ],
   "source": [
    "yesterday = np.datetime64('today') - np.timedelta64(1)\n",
    "today     = np.datetime64('today')\n",
    "tomorrow  = np.datetime64('today') + np.timedelta64(1)\n",
    "print(\"yesterday\" ,yesterday)\n",
    "print(\"today\",today)\n",
    "print(\"tomorrow\",tomorrow)"
   ]
  },
  {
   "cell_type": "markdown",
   "metadata": {},
   "source": [
    "# 7. Consider two random array A and B, check if they are equal"
   ]
  },
  {
   "cell_type": "code",
   "execution_count": 8,
   "metadata": {},
   "outputs": [
    {
     "name": "stdout",
     "output_type": "stream",
     "text": [
      "[1 4 4 0 0]\n",
      "[1 3 0 2 4]\n",
      "False\n"
     ]
    }
   ],
   "source": [
    "A = np.random.randint(0,5,5)\n",
    "B = np.random.randint(0,5,5)\n",
    "print(A)\n",
    "print(B)\n",
    "equal = np.array_equal(A,B)\n",
    "print(equal)"
   ]
  },
  {
   "cell_type": "markdown",
   "metadata": {},
   "source": [
    "# 8.Create random vector of size 10 and replace the maximum value by 0 "
   ]
  },
  {
   "cell_type": "code",
   "execution_count": 9,
   "metadata": {},
   "outputs": [
    {
     "name": "stdout",
     "output_type": "stream",
     "text": [
      "[0.1418963  0.69146478 0.78212661 0.25088427 0.97624347 0.27350574\n",
      " 0.82989788 0.01475097 0.1792859  0.44257695]\n",
      "4\n",
      "[0.1418963  0.69146478 0.78212661 0.25088427 0.         0.27350574\n",
      " 0.82989788 0.01475097 0.1792859  0.44257695]\n"
     ]
    }
   ],
   "source": [
    "Z = np.random.random(10)\n",
    "print(Z)\n",
    "#Return indices of the maximum value\n",
    "print(Z.argmax())\n",
    "Z[Z.argmax()] = 0\n",
    "print(Z)"
   ]
  },
  {
   "cell_type": "markdown",
   "metadata": {},
   "source": [
    "# 9. How to print all the values of an array?"
   ]
  },
  {
   "cell_type": "code",
   "execution_count": 10,
   "metadata": {},
   "outputs": [
    {
     "name": "stdout",
     "output_type": "stream",
     "text": [
      "[[0. 0. 0. 0. 0.]\n",
      " [0. 0. 0. 0. 0.]\n",
      " [0. 0. 0. 0. 0.]\n",
      " [0. 0. 0. 0. 0.]\n",
      " [0. 0. 0. 0. 0.]]\n"
     ]
    }
   ],
   "source": [
    "np.set_printoptions(threshold=float(\"inf\"))\n",
    "Z = np.zeros((5,5)) \n",
    "#print(Z[list(iter(list(range(0,5))))])\n",
    "print(Z)"
   ]
  },
  {
   "cell_type": "markdown",
   "metadata": {},
   "source": [
    "# 10.Subtract the mean of each row of a matrix"
   ]
  },
  {
   "cell_type": "code",
   "execution_count": 11,
   "metadata": {},
   "outputs": [
    {
     "name": "stdout",
     "output_type": "stream",
     "text": [
      "[[1 2]\n",
      " [4 3]]\n",
      "[[-0.5  0.5]\n",
      " [ 0.5 -0.5]]\n"
     ]
    }
   ],
   "source": [
    "X = np.array([[1, 2], [4, 3]])\n",
    "print(X) \n",
    "Y = X - X.mean(axis=1, keepdims=True)\n",
    "print(Y) "
   ]
  },
  {
   "cell_type": "markdown",
   "metadata": {},
   "source": [
    "# 11.Consider a given vector, how to add 1 to each element indexed by a second vector (be careful with repeated indices)? "
   ]
  },
  {
   "cell_type": "code",
   "execution_count": 12,
   "metadata": {},
   "outputs": [
    {
     "name": "stdout",
     "output_type": "stream",
     "text": [
      "[1. 1. 1. 1. 1. 1. 1. 1. 1. 1.]\n",
      "[1, 3, 5, 7, 9, 1]\n",
      "[1. 3. 1. 2. 1. 2. 1. 2. 1. 2.]\n"
     ]
    }
   ],
   "source": [
    " \n",
    "Z = np.ones(10)\n",
    "print(Z) \n",
    "I =[1,3,5,7,9,1]\n",
    "print(I) \n",
    "np.add.at(Z, I, 1)\n",
    "print(Z)"
   ]
  },
  {
   "cell_type": "markdown",
   "metadata": {},
   "source": [
    "# 12.How to get the diagonal of a dot product?"
   ]
  },
  {
   "cell_type": "code",
   "execution_count": 13,
   "metadata": {},
   "outputs": [
    {
     "name": "stdout",
     "output_type": "stream",
     "text": [
      "[[1 2]\n",
      " [4 3]]\n",
      "[[1 2]\n",
      " [4 3]]\n"
     ]
    },
    {
     "data": {
      "text/plain": [
       "array([ 9, 17])"
      ]
     },
     "execution_count": 13,
     "metadata": {},
     "output_type": "execute_result"
    }
   ],
   "source": [
    " \n",
    "A = np.array([[1, 2], [4, 3]])\n",
    "B = np.array([[1, 2], [4, 3]])\n",
    "print(A)\n",
    "print(B)\n",
    "\n",
    "np.diag(np.dot(A, B))"
   ]
  },
  {
   "cell_type": "markdown",
   "metadata": {},
   "source": [
    "# 13.How to find the most frequent value in an array?"
   ]
  },
  {
   "cell_type": "code",
   "execution_count": 14,
   "metadata": {},
   "outputs": [
    {
     "name": "stdout",
     "output_type": "stream",
     "text": [
      "[6 9 6 8 0 8 6 6 4 9]\n",
      "[6]\n",
      "6\n"
     ]
    }
   ],
   "source": [
    "Z = np.random.randint(0,10,10)\n",
    "print(Z)\n",
    "from scipy import stats\n",
    "a,b =stats.mode(Z)\n",
    "print(a)\n",
    "print(np.bincount(Z).argmax())"
   ]
  },
  {
   "cell_type": "markdown",
   "metadata": {},
   "source": [
    "# 14.How to get the n largest values of an array"
   ]
  },
  {
   "cell_type": "code",
   "execution_count": 15,
   "metadata": {},
   "outputs": [
    {
     "name": "stdout",
     "output_type": "stream",
     "text": [
      "[ 0  1  2  3  4  5  6  7  8  9 10 11 12 13 14 15 16 17 18 19 20 21 22 23\n",
      " 24 25 26 27 28 29 30 31 32 33 34 35 36 37 38 39 40 41 42 43 44 45 46 47\n",
      " 48 49 50 51 52 53 54 55 56 57 58 59 60 61 62 63 64 65 66 67 68 69 70 71\n",
      " 72 73 74 75 76 77 78 79 80 81 82 83 84 85 86 87 88 89 90 91 92 93 94 95\n",
      " 96 97 98 99]\n",
      "[26 93 13 82 54 40 66 48 41 22  7 69 27  1  3 31 79  9 72 45 83 92 32 28\n",
      " 75 16 29 46 88 19 84 78 73 33  8 70 60 99 36 61 47 21 64  2 42 96 24 91\n",
      " 14 59 25 86 37 53 35 17 43 95 50 76 52 34 77  5  6 39 65 38 10 62 68 58\n",
      " 90  4 56 81 55 12 51 57 94 30 97 63 89 20 80 85 49 71 18 74 87 44  0 67\n",
      " 98 23 15 11]\n",
      "[95 96 97 98 99]\n"
     ]
    }
   ],
   "source": [
    "Z = np.arange(100)\n",
    "print(Z)\n",
    "np.random.shuffle(Z)\n",
    "print(Z)\n",
    "n = 5\n",
    "\n",
    "print (Z[np.argsort(Z)[-n:]])"
   ]
  },
  {
   "cell_type": "markdown",
   "metadata": {},
   "source": [
    "# 15.How to create a record array from a regular array?"
   ]
  },
  {
   "cell_type": "code",
   "execution_count": 16,
   "metadata": {},
   "outputs": [
    {
     "name": "stdout",
     "output_type": "stream",
     "text": [
      "[[1 4]\n",
      " [2 5]\n",
      " [3 6]]\n",
      "[(1, 2, 3) (4, 5, 6)]\n"
     ]
    }
   ],
   "source": [
    "Z = np.array([(1,2,3),\n",
    "              (4,5,6)])\n",
    "print(Z.T)\n",
    "R = np.core.records.fromarrays(Z.T)\n",
    "                              \n",
    "print(R)"
   ]
  }
 ],
 "metadata": {
  "kernelspec": {
   "display_name": "Python 3",
   "language": "python",
   "name": "python3"
  },
  "language_info": {
   "codemirror_mode": {
    "name": "ipython",
    "version": 3
   },
   "file_extension": ".py",
   "mimetype": "text/x-python",
   "name": "python",
   "nbconvert_exporter": "python",
   "pygments_lexer": "ipython3",
   "version": "3.7.6"
  }
 },
 "nbformat": 4,
 "nbformat_minor": 2
}
